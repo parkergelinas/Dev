{
 "cells": [
  {
   "cell_type": "code",
   "execution_count": null,
   "metadata": {},
   "outputs": [],
   "source": []
  }
 ],
 "metadata": {
  "kernelspec": {
   "display_name": "Python 3",
   "language": "python",
   "name": "python3"
  },
  "language_info": {
   "name": "python",
   "version": "3.9.13"
  },
  "orig_nbformat": 4,
  "vscode": {
   "interpreter": {
    "hash": "4c70b443fbb278df29730f0ae1b2d1a59ee1ffc15141e173522258f3850a348a"
   }
  }
 },
 "nbformat": 4,
 "nbformat_minor": 2
}

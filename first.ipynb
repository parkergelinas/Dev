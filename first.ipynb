{
 "cells": [
  {
   "cell_type": "code",
   "execution_count": 1,
   "metadata": {},
   "outputs": [],
   "source": [
    "import quandl\n",
    "import numpy as np\n",
    "import yfinance as yf\n",
    "from sklearn.linear_model import LinearRegression\n",
    "from sklearn.svm import SVR\n",
    "from sklearn.model_selection import train_test_split"
   ]
  },
  {
   "cell_type": "code",
   "execution_count": 2,
   "metadata": {},
   "outputs": [
    {
     "name": "stdout",
     "output_type": "stream",
     "text": [
      "             Open   High    Low  Close     Volume  Ex-Dividend  Split Ratio  \\\n",
      "Date                                                                          \n",
      "2002-02-13  19.25  20.12  19.05  20.10  9527000.0          0.0          1.0   \n",
      "2002-02-14  20.35  20.39  19.85  20.00  1377700.0          0.0          1.0   \n",
      "2002-02-15  20.05  20.05  19.70  19.90  1048700.0          0.0          1.0   \n",
      "2002-02-19  19.80  19.80  18.75  19.10   926300.0          0.0          1.0   \n",
      "2002-02-20  19.75  19.75  19.05  19.75   861600.0          0.0          1.0   \n",
      "\n",
      "            Adj. Open  Adj. High  Adj. Low  Adj. Close  Adj. Volume  \n",
      "Date                                                                 \n",
      "2002-02-13   7.549936   7.891154  7.471495    7.883310   19054000.0  \n",
      "2002-02-14   7.981361   7.997050  7.785259    7.844090    2755400.0  \n",
      "2002-02-15   7.863700   7.863700  7.726428    7.804869    2097400.0  \n",
      "2002-02-19   7.765649   7.765649  7.353834    7.491106    1852600.0  \n",
      "2002-02-20   7.746039   7.746039  7.471495    7.746039    1723200.0  \n"
     ]
    }
   ],
   "source": [
    "df = quandl.get_table(\"WIKI/GME\")\n",
    "print(df.head())"
   ]
  },
  {
   "cell_type": "code",
   "execution_count": 3,
   "metadata": {},
   "outputs": [
    {
     "name": "stdout",
     "output_type": "stream",
     "text": [
      "            Adj. Close\n",
      "Date                  \n",
      "2002-02-13    7.883310\n",
      "2002-02-14    7.844090\n",
      "2002-02-15    7.804869\n",
      "2002-02-19    7.491106\n",
      "2002-02-20    7.746039\n"
     ]
    }
   ],
   "source": [
    "df = df[['Adj. Close']]\n",
    "print(df.head())"
   ]
  },
  {
   "cell_type": "code",
   "execution_count": 4,
   "metadata": {},
   "outputs": [
    {
     "name": "stdout",
     "output_type": "stream",
     "text": [
      "            Adj. Close  Prediction\n",
      "Date                              \n",
      "2018-03-21       14.02         NaN\n",
      "2018-03-22       13.83         NaN\n",
      "2018-03-23       13.50         NaN\n",
      "2018-03-26       14.04         NaN\n",
      "2018-03-27       13.88         NaN\n"
     ]
    }
   ],
   "source": [
    "forecast_out = 30\n",
    "\n",
    "df['Prediction'] = df[['Adj. Close']].shift(-forecast_out)\n",
    "print(df.tail())"
   ]
  },
  {
   "cell_type": "code",
   "execution_count": 5,
   "metadata": {},
   "outputs": [
    {
     "name": "stderr",
     "output_type": "stream",
     "text": [
      "C:\\Users\\parke\\AppData\\Local\\Temp/ipykernel_20052/3403348680.py:1: FutureWarning: In a future version of pandas all arguments of DataFrame.drop except for the argument 'labels' will be keyword-only\n",
      "  X = np.array(df.drop(['Prediction'],1))\n"
     ]
    }
   ],
   "source": [
    "X = np.array(df.drop(['Prediction'],1))\n",
    "\n",
    "X = X[:-forecast_out]"
   ]
  }
 ],
 "metadata": {
  "kernelspec": {
   "display_name": "Python 3.9.13 64-bit (windows store)",
   "language": "python",
   "name": "python3"
  },
  "language_info": {
   "codemirror_mode": {
    "name": "ipython",
    "version": 3
   },
   "file_extension": ".py",
   "mimetype": "text/x-python",
   "name": "python",
   "nbconvert_exporter": "python",
   "pygments_lexer": "ipython3",
   "version": "3.9.13"
  },
  "orig_nbformat": 4,
  "vscode": {
   "interpreter": {
    "hash": "4c70b443fbb278df29730f0ae1b2d1a59ee1ffc15141e173522258f3850a348a"
   }
  }
 },
 "nbformat": 4,
 "nbformat_minor": 2
}
